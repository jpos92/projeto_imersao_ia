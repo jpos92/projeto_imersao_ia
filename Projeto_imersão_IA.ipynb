{
  "nbformat": 4,
  "nbformat_minor": 0,
  "metadata": {
    "colab": {
      "provenance": [],
      "authorship_tag": "ABX9TyNMyS7XCVJ9h/g8Je2faR/R",
      "include_colab_link": true
    },
    "kernelspec": {
      "name": "python3",
      "display_name": "Python 3"
    },
    "language_info": {
      "name": "python"
    }
  },
  "cells": [
    {
      "cell_type": "markdown",
      "metadata": {
        "id": "view-in-github",
        "colab_type": "text"
      },
      "source": [
        "<a href=\"https://colab.research.google.com/github/jpos92/projeto_imersao_ia/blob/master/Projeto_imers%C3%A3o_IA.ipynb\" target=\"_parent\"><img src=\"https://colab.research.google.com/assets/colab-badge.svg\" alt=\"Open In Colab\"/></a>"
      ]
    },
    {
      "cell_type": "code",
      "execution_count": null,
      "metadata": {
        "id": "Ty-CZT5gOVyB"
      },
      "outputs": [],
      "source": [
        "!pip install -q -U google-generativeai\n",
        "!pip install pypdf2"
      ]
    },
    {
      "cell_type": "code",
      "source": [
        "# Importando recursos necessários para a aplicação.\n",
        "import google.generativeai as genai\n",
        "from google.colab import userdata\n",
        "from google.colab import files\n",
        "import PyPDF2\n",
        "\n",
        "# Definição de variáveis gerais\n",
        "api_key = userdata.get('SECRET_KEY')\n",
        "genai.configure(api_key=api_key)\n",
        "\n",
        "#Definição e configurações do modelo\n",
        "generation_config = {\n",
        "  \"temperature\": 1,\n",
        "  \"top_p\": 0.95,\n",
        "  \"top_k\": 0,\n",
        "  \"max_output_tokens\": 8192,\n",
        "}\n",
        "\n",
        "safety_settings = [\n",
        "  {\n",
        "    \"category\": \"HARM_CATEGORY_HARASSMENT\",\n",
        "    \"threshold\": \"BLOCK_NONE\"\n",
        "  },\n",
        "  {\n",
        "    \"category\": \"HARM_CATEGORY_HATE_SPEECH\",\n",
        "    \"threshold\": \"BLOCK_NONE\"\n",
        "  },\n",
        "  {\n",
        "    \"category\": \"HARM_CATEGORY_SEXUALLY_EXPLICIT\",\n",
        "    \"threshold\": \"BLOCK_NONE\"\n",
        "  },\n",
        "  {\n",
        "    \"category\": \"HARM_CATEGORY_DANGEROUS_CONTENT\",\n",
        "    \"threshold\": \"BLOCK_NONE\"\n",
        "  },\n",
        "]\n",
        "\n",
        "model = genai.GenerativeModel(model_name=\"gemini-1.5-pro-latest\",\n",
        "                              generation_config=generation_config,\n",
        "                              safety_settings=safety_settings)"
      ],
      "metadata": {
        "id": "36Z7T0vQQ6Bp"
      },
      "execution_count": null,
      "outputs": []
    },
    {
      "cell_type": "markdown",
      "source": [
        "# UPLOAD DE ARQUIVOS"
      ],
      "metadata": {
        "id": "-HVIvt8InCo3"
      }
    },
    {
      "cell_type": "code",
      "source": [
        "uploaded = files.upload()"
      ],
      "metadata": {
        "id": "TFeDdkiPYbMR",
        "colab": {
          "base_uri": "https://localhost:8080/",
          "height": 250
        },
        "outputId": "6833a815-d8d2-4a7e-9021-0e5dd8ac4fae"
      },
      "execution_count": null,
      "outputs": [
        {
          "output_type": "display_data",
          "data": {
            "text/plain": [
              "<IPython.core.display.HTML object>"
            ],
            "text/html": [
              "\n",
              "     <input type=\"file\" id=\"files-a11b1d4a-1552-40e1-ab4b-b44541ff1466\" name=\"files[]\" multiple disabled\n",
              "        style=\"border:none\" />\n",
              "     <output id=\"result-a11b1d4a-1552-40e1-ab4b-b44541ff1466\">\n",
              "      Upload widget is only available when the cell has been executed in the\n",
              "      current browser session. Please rerun this cell to enable.\n",
              "      </output>\n",
              "      <script>// Copyright 2017 Google LLC\n",
              "//\n",
              "// Licensed under the Apache License, Version 2.0 (the \"License\");\n",
              "// you may not use this file except in compliance with the License.\n",
              "// You may obtain a copy of the License at\n",
              "//\n",
              "//      http://www.apache.org/licenses/LICENSE-2.0\n",
              "//\n",
              "// Unless required by applicable law or agreed to in writing, software\n",
              "// distributed under the License is distributed on an \"AS IS\" BASIS,\n",
              "// WITHOUT WARRANTIES OR CONDITIONS OF ANY KIND, either express or implied.\n",
              "// See the License for the specific language governing permissions and\n",
              "// limitations under the License.\n",
              "\n",
              "/**\n",
              " * @fileoverview Helpers for google.colab Python module.\n",
              " */\n",
              "(function(scope) {\n",
              "function span(text, styleAttributes = {}) {\n",
              "  const element = document.createElement('span');\n",
              "  element.textContent = text;\n",
              "  for (const key of Object.keys(styleAttributes)) {\n",
              "    element.style[key] = styleAttributes[key];\n",
              "  }\n",
              "  return element;\n",
              "}\n",
              "\n",
              "// Max number of bytes which will be uploaded at a time.\n",
              "const MAX_PAYLOAD_SIZE = 100 * 1024;\n",
              "\n",
              "function _uploadFiles(inputId, outputId) {\n",
              "  const steps = uploadFilesStep(inputId, outputId);\n",
              "  const outputElement = document.getElementById(outputId);\n",
              "  // Cache steps on the outputElement to make it available for the next call\n",
              "  // to uploadFilesContinue from Python.\n",
              "  outputElement.steps = steps;\n",
              "\n",
              "  return _uploadFilesContinue(outputId);\n",
              "}\n",
              "\n",
              "// This is roughly an async generator (not supported in the browser yet),\n",
              "// where there are multiple asynchronous steps and the Python side is going\n",
              "// to poll for completion of each step.\n",
              "// This uses a Promise to block the python side on completion of each step,\n",
              "// then passes the result of the previous step as the input to the next step.\n",
              "function _uploadFilesContinue(outputId) {\n",
              "  const outputElement = document.getElementById(outputId);\n",
              "  const steps = outputElement.steps;\n",
              "\n",
              "  const next = steps.next(outputElement.lastPromiseValue);\n",
              "  return Promise.resolve(next.value.promise).then((value) => {\n",
              "    // Cache the last promise value to make it available to the next\n",
              "    // step of the generator.\n",
              "    outputElement.lastPromiseValue = value;\n",
              "    return next.value.response;\n",
              "  });\n",
              "}\n",
              "\n",
              "/**\n",
              " * Generator function which is called between each async step of the upload\n",
              " * process.\n",
              " * @param {string} inputId Element ID of the input file picker element.\n",
              " * @param {string} outputId Element ID of the output display.\n",
              " * @return {!Iterable<!Object>} Iterable of next steps.\n",
              " */\n",
              "function* uploadFilesStep(inputId, outputId) {\n",
              "  const inputElement = document.getElementById(inputId);\n",
              "  inputElement.disabled = false;\n",
              "\n",
              "  const outputElement = document.getElementById(outputId);\n",
              "  outputElement.innerHTML = '';\n",
              "\n",
              "  const pickedPromise = new Promise((resolve) => {\n",
              "    inputElement.addEventListener('change', (e) => {\n",
              "      resolve(e.target.files);\n",
              "    });\n",
              "  });\n",
              "\n",
              "  const cancel = document.createElement('button');\n",
              "  inputElement.parentElement.appendChild(cancel);\n",
              "  cancel.textContent = 'Cancel upload';\n",
              "  const cancelPromise = new Promise((resolve) => {\n",
              "    cancel.onclick = () => {\n",
              "      resolve(null);\n",
              "    };\n",
              "  });\n",
              "\n",
              "  // Wait for the user to pick the files.\n",
              "  const files = yield {\n",
              "    promise: Promise.race([pickedPromise, cancelPromise]),\n",
              "    response: {\n",
              "      action: 'starting',\n",
              "    }\n",
              "  };\n",
              "\n",
              "  cancel.remove();\n",
              "\n",
              "  // Disable the input element since further picks are not allowed.\n",
              "  inputElement.disabled = true;\n",
              "\n",
              "  if (!files) {\n",
              "    return {\n",
              "      response: {\n",
              "        action: 'complete',\n",
              "      }\n",
              "    };\n",
              "  }\n",
              "\n",
              "  for (const file of files) {\n",
              "    const li = document.createElement('li');\n",
              "    li.append(span(file.name, {fontWeight: 'bold'}));\n",
              "    li.append(span(\n",
              "        `(${file.type || 'n/a'}) - ${file.size} bytes, ` +\n",
              "        `last modified: ${\n",
              "            file.lastModifiedDate ? file.lastModifiedDate.toLocaleDateString() :\n",
              "                                    'n/a'} - `));\n",
              "    const percent = span('0% done');\n",
              "    li.appendChild(percent);\n",
              "\n",
              "    outputElement.appendChild(li);\n",
              "\n",
              "    const fileDataPromise = new Promise((resolve) => {\n",
              "      const reader = new FileReader();\n",
              "      reader.onload = (e) => {\n",
              "        resolve(e.target.result);\n",
              "      };\n",
              "      reader.readAsArrayBuffer(file);\n",
              "    });\n",
              "    // Wait for the data to be ready.\n",
              "    let fileData = yield {\n",
              "      promise: fileDataPromise,\n",
              "      response: {\n",
              "        action: 'continue',\n",
              "      }\n",
              "    };\n",
              "\n",
              "    // Use a chunked sending to avoid message size limits. See b/62115660.\n",
              "    let position = 0;\n",
              "    do {\n",
              "      const length = Math.min(fileData.byteLength - position, MAX_PAYLOAD_SIZE);\n",
              "      const chunk = new Uint8Array(fileData, position, length);\n",
              "      position += length;\n",
              "\n",
              "      const base64 = btoa(String.fromCharCode.apply(null, chunk));\n",
              "      yield {\n",
              "        response: {\n",
              "          action: 'append',\n",
              "          file: file.name,\n",
              "          data: base64,\n",
              "        },\n",
              "      };\n",
              "\n",
              "      let percentDone = fileData.byteLength === 0 ?\n",
              "          100 :\n",
              "          Math.round((position / fileData.byteLength) * 100);\n",
              "      percent.textContent = `${percentDone}% done`;\n",
              "\n",
              "    } while (position < fileData.byteLength);\n",
              "  }\n",
              "\n",
              "  // All done.\n",
              "  yield {\n",
              "    response: {\n",
              "      action: 'complete',\n",
              "    }\n",
              "  };\n",
              "}\n",
              "\n",
              "scope.google = scope.google || {};\n",
              "scope.google.colab = scope.google.colab || {};\n",
              "scope.google.colab._files = {\n",
              "  _uploadFiles,\n",
              "  _uploadFilesContinue,\n",
              "};\n",
              "})(self);\n",
              "</script> "
            ]
          },
          "metadata": {}
        },
        {
          "output_type": "stream",
          "name": "stdout",
          "text": [
            "Saving EDITAL_LICITACAO_XX_2023.pdf to EDITAL_LICITACAO_XX_2023.pdf\n",
            "Saving Esperanca_SA.pdf to Esperanca_SA.pdf\n",
            "Saving Medical_Corp.pdf to Medical_Corp.pdf\n",
            "Saving Saude_Ltd.pdf to Saude_Ltd.pdf\n",
            "Saving Tabela_Estoque_Anterior.pdf to Tabela_Estoque_Anterior.pdf\n",
            "Saving Tabela_Medicamentos_Orgao_Regulador.pdf to Tabela_Medicamentos_Orgao_Regulador.pdf\n"
          ]
        }
      ]
    },
    {
      "cell_type": "markdown",
      "source": [
        "# FUNCÃO PARA LER PDF"
      ],
      "metadata": {
        "id": "-GqNS0a1mbeS"
      }
    },
    {
      "cell_type": "code",
      "source": [
        "def extract_pdf_pages(pathname: str) -> list[str]:\n",
        "  parts = [f\"--- START OF PDF ${pathname} ---\"]\n",
        "  with open(pathname, 'rb') as pdf_file:\n",
        "    pdf_reader = PyPDF2.PdfReader(pdf_file)\n",
        "    num_pages = len(pdf_reader.pages)\n",
        "\n",
        "    for page_num in range(num_pages):\n",
        "      page = pdf_reader.pages[page_num]\n",
        "      page_content = page.extract_text()\n",
        "      parts.append(f\"--- PAGE {page_num} ---\")\n",
        "      parts.append(page_content)\n",
        "\n",
        "  return parts"
      ],
      "metadata": {
        "id": "FhP5nwPlmkHw"
      },
      "execution_count": null,
      "outputs": []
    },
    {
      "cell_type": "markdown",
      "source": [
        "# MÓDULO PARA AVALIAR EMPRESAS"
      ],
      "metadata": {
        "id": "-ly2anUNlL4x"
      }
    },
    {
      "cell_type": "code",
      "source": [
        "prompt_parts = [\n",
        "  *extract_pdf_pages(\"/content/Esperanca_SA.pdf\"),\n",
        "  *extract_pdf_pages(\"/content/Medical_Corp.pdf\"),\n",
        "  *extract_pdf_pages(\"/content/Saude_Ltd.pdf\"),\n",
        "  \"\\\"Você é um sistema construído para trabalhar no contexto de licitações públicas\\\", \\\"Uma empresa só pode ser desclassificada se estiver envolvida em processos por corrupção, apenas nesse caso\\\", \\\"Faça uma análise das empresas e responda com uma tabela contendo o nome da empresa, status 'Positiva', 'Negativa' ou 'Indiferente' e se está ou não classificada\\\", \\\"Faça um pequeno resumo com uma visão geral de cada empresa\\\"\"\n",
        "]\n",
        "\n",
        "response = model.generate_content(prompt_parts)\n",
        "print(response.text)"
      ],
      "metadata": {
        "id": "PrSYPjXlbD00",
        "colab": {
          "base_uri": "https://localhost:8080/",
          "height": 323
        },
        "outputId": "80cdb986-3c40-4371-e8d4-64d978c7f7fd"
      },
      "execution_count": null,
      "outputs": [
        {
          "output_type": "stream",
          "name": "stdout",
          "text": [
            "## Análise de Empresas para Licitação Pública\n",
            "\n",
            "| Nome da Empresa | Status | Classificada? |\n",
            "|---|---|---|\n",
            "| Esperança S.A. | Positiva | Sim |\n",
            "| Medical Corp. | Indiferente | Sim |\n",
            "| Saúde Ltd. | Negativa | Não |\n",
            "\n",
            "## Resumo das Empresas\n",
            "\n",
            "**Esperança S.A.:** Apresenta um perfil exemplar, sem envolvimento em processos judiciais e com documentação completa. É uma candidata ideal para a licitação.\n",
            "\n",
            "**Medical Corp.:** Apesar de não ter processos por corrupção, a empresa enfrenta problemas trabalhistas e relacionados a discursos impróprios. Embora possa participar da licitação, é importante considerar esses fatores na avaliação.\n",
            "\n",
            "**Saúde Ltd.:** O envolvimento em processos de corrupção desclassifica automaticamente a empresa da licitação. Os demais processos e pendências documentais reforçam ainda mais a sua inadequação para o processo. \n",
            "\n"
          ]
        }
      ]
    },
    {
      "cell_type": "markdown",
      "source": [
        "# MÓDULO PARA AVALIAR POSSÍVEL TENTATIVA DE FRAUDE COM LICITAÇÕES INJUSTIFICADAS"
      ],
      "metadata": {
        "id": "xVwKsagLmCt1"
      }
    },
    {
      "cell_type": "code",
      "source": [
        "prompt_parts = [\n",
        "  *extract_pdf_pages(\"/content/Tabela_Estoque_Anterior.pdf\"),\n",
        "  \"\\\"A abertura de um processo licitatório só pode ser iniciado se mais da metade dos medicamentos estiverem com porcentagem menor ou igual a 50%\\\"\"\n",
        "]\n",
        "\n",
        "response = model.generate_content(prompt_parts)\n",
        "print(response.text)"
      ],
      "metadata": {
        "id": "P-ISWLuSmWU6",
        "colab": {
          "base_uri": "https://localhost:8080/",
          "height": 430
        },
        "outputId": "1801e1c6-cebb-403f-c17b-2a53818975e6"
      },
      "execution_count": null,
      "outputs": [
        {
          "output_type": "stream",
          "name": "stdout",
          "text": [
            "## Análise do Estoque de Medicamentos e Necessidade de Licitação\n",
            "\n",
            "Com base na tabela de estoque de medicamentos e na regra de abertura de processo licitatório, vamos analisar a situação:\n",
            "\n",
            "**Medicamentos com porcentagem menor ou igual a 50%:**\n",
            "\n",
            "* **Ibuprofeno 200 mg:** 50,00%\n",
            "* **Amoxilina 500 mg:** 50,00%\n",
            "* **Azitromicina 500 mg:** 35,00%\n",
            "* **Cefalexina 500 mg:** 37,50%\n",
            "* **Ciprofloxacino 500 mg:** 36,67%\n",
            "* **Levofloxacino 500 mg:** 15,00%\n",
            "* **Clindamicina 300 mg:** 5,00%\n",
            "\n",
            "**Total de medicamentos:** 10\n",
            "\n",
            "**Medicamentos com porcentagem menor ou igual a 50%:** 7 \n",
            "\n",
            "**Conclusão:**\n",
            "\n",
            "Como 7 dos 10 medicamentos (70%) possuem uma porcentagem menor ou igual a 50%, **a condição para abertura de um processo licitatório é atendida.** É crucial iniciar o processo de licitação o mais rápido possível para evitar a falta de medicamentos essenciais e garantir o abastecimento adequado. \n",
            "\n"
          ]
        }
      ]
    },
    {
      "cell_type": "markdown",
      "source": [
        "# MÓDULO PARA AVALIAR POSSÍVEL TENTATIVA DE FRAUDE ATRAVÉS DE SUPERFATURAMENTO"
      ],
      "metadata": {
        "id": "gF2sqhI_2bRx"
      }
    },
    {
      "cell_type": "code",
      "source": [
        "prompt_parts = [\n",
        "  *extract_pdf_pages(\"/content/Tabela_Medicamentos_Orgao_Regulador.pdf\"),\n",
        "  *extract_pdf_pages(\"/content/EDITAL_LICITACAO_XX_2023.pdf\"),\n",
        "  \"\\\"Compare os preços do edital com os preços da tabela oficial do órgão regulador e indique possiveis fraudes\\\"\"\n",
        "]\n",
        "\n",
        "response = model.generate_content(prompt_parts)\n",
        "print(response.text)"
      ],
      "metadata": {
        "id": "8uyIuziP3YVe",
        "colab": {
          "base_uri": "https://localhost:8080/",
          "height": 466
        },
        "outputId": "a8dd010b-a456-4002-d488-2fbbdd8fe2a7"
      },
      "execution_count": null,
      "outputs": [
        {
          "output_type": "stream",
          "name": "stdout",
          "text": [
            "## Análise de Possíveis Fraudes no Edital de Licitação XX/2023\n",
            "\n",
            "Comparando os preços unitários do edital com a tabela oficial do órgão regulador, identificamos discrepâncias significativas em alguns itens, sugerindo possíveis fraudes:\n",
            "\n",
            "**Itens com Discrepâncias:**\n",
            "\n",
            "* **AAS 100mg:** O edital apresenta um valor unitário de R$ 0,48, enquanto a tabela oficial indica R$ 0,12. **Isso representa uma diferença de 300%,** o que é um forte indício de sobrepreço.\n",
            "* **Cefalexina 500mg:** O edital indica um valor unitário de R$ 0,70, enquanto a tabela oficial apresenta R$ 0,30. **A diferença de 133%** também levanta suspeitas de sobrepreço.\n",
            "\n",
            "**Outros pontos a serem considerados:**\n",
            "\n",
            "* **Margem de Lucro Elevada:** A margem de lucro de 20% estabelecida no edital pode ser considerada alta para medicamentos, especialmente considerando que se trata de uma compra em grande quantidade para uso hospitalar. \n",
            "* **Ausência de Justificativa:** O edital não apresenta nenhuma justificativa para as diferenças de preço em relação à tabela oficial. \n",
            "\n",
            "**Recomendações:**\n",
            "\n",
            "* **Investigar os itens com discrepâncias:** É crucial investigar as razões por trás das diferenças de preço do AAS e da Cefalexina.  \n",
            "* **Auditoria do Processo Licitatório:** Recomenda-se uma auditoria completa do processo licitatório para identificar possíveis irregularidades e garantir a transparência.\n",
            "* **Comparação com outros fornecedores:** Comparar os preços com outros fornecedores de medicamentos pode fornecer uma referência adicional para avaliar se os valores do edital são justos.\n",
            "\n",
            "**Conclusão:**\n",
            "\n",
            "As discrepâncias identificadas no edital, principalmente nos casos do AAS e da Cefalexina, levantam sérias suspeitas de fraude e sobrepreço. É fundamental investigar a fundo essas inconsistências e tomar as medidas cabíveis para garantir a integridade do processo de licitação e o uso responsável dos recursos públicos. \n",
            "\n"
          ]
        }
      ]
    }
  ]
}